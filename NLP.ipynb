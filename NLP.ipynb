{
 "cells": [
  {
   "cell_type": "markdown",
   "metadata": {},
   "source": [
    "# Natural Language Processing\n",
    "\n",
    "\n",
    "following the tutorial available at <a href=\"https://www.datacamp.com/community/tutorials/text-analytics-beginners-nltk\">DataCamp</a>"
   ]
  },
  {
   "cell_type": "markdown",
   "metadata": {},
   "source": [
    "### 1. Initialising "
   ]
  },
  {
   "cell_type": "code",
   "execution_count": 27,
   "metadata": {},
   "outputs": [],
   "source": [
    "import os\n",
    "import numpy as np\n",
    "import matplotlib.pyplot as plt\n",
    "import pandas as pd\n",
    "\n",
    "from nltk.tokenize import RegexpTokenizer, word_tokenize\n",
    "from nltk.corpus import stopwords\n",
    "from nltk.stem import WordNetLemmatizer\n",
    "\n",
    "from sklearn.feature_extraction.text import CountVectorizer, TfidfVectorizer\n",
    "from sklearn.model_selection import train_test_split\n",
    "from sklearn.naive_bayes import MultinomialNB\n",
    "from sklearn.linear_model import PassiveAggressiveClassifier\n",
    "from sklearn.metrics import accuracy_score"
   ]
  },
  {
   "cell_type": "code",
   "execution_count": null,
   "metadata": {},
   "outputs": [],
   "source": [
    "# nltk.download()"
   ]
  },
  {
   "cell_type": "code",
   "execution_count": 4,
   "metadata": {},
   "outputs": [
    {
     "data": {
      "text/plain": [
       "'C:\\\\Users\\\\emlyg\\\\Programming\\\\NLP'"
      ]
     },
     "execution_count": 4,
     "metadata": {},
     "output_type": "execute_result"
    }
   ],
   "source": [
    "# Check working directory\n",
    "home = os.getcwd()\n",
    "home"
   ]
  },
  {
   "cell_type": "markdown",
   "metadata": {},
   "source": [
    "### 2. Importing data\n",
    "\n",
    "This data set is found on <a href=\"https://www.kaggle.com/c/sentiment-analysis-on-movie-reviews/data\">Kaggle</a>\n",
    "\n",
    "It ranks the sentiment of movie reviews marking them as:\n",
    "* 0 - negative\n",
    "* 1 - somewhat negative\n",
    "* 2 - neutral\n",
    "* 3 - somewhat positive\n",
    "* 4 - positive"
   ]
  },
  {
   "cell_type": "code",
   "execution_count": 5,
   "metadata": {
    "scrolled": false
   },
   "outputs": [
    {
     "data": {
      "text/html": [
       "<div>\n",
       "<style scoped>\n",
       "    .dataframe tbody tr th:only-of-type {\n",
       "        vertical-align: middle;\n",
       "    }\n",
       "\n",
       "    .dataframe tbody tr th {\n",
       "        vertical-align: top;\n",
       "    }\n",
       "\n",
       "    .dataframe thead th {\n",
       "        text-align: right;\n",
       "    }\n",
       "</style>\n",
       "<table border=\"1\" class=\"dataframe\">\n",
       "  <thead>\n",
       "    <tr style=\"text-align: right;\">\n",
       "      <th></th>\n",
       "      <th>PhraseId</th>\n",
       "      <th>SentenceId</th>\n",
       "      <th>Phrase</th>\n",
       "      <th>Sentiment</th>\n",
       "    </tr>\n",
       "  </thead>\n",
       "  <tbody>\n",
       "    <tr>\n",
       "      <th>0</th>\n",
       "      <td>1</td>\n",
       "      <td>1</td>\n",
       "      <td>A series of escapades demonstrating the adage ...</td>\n",
       "      <td>1</td>\n",
       "    </tr>\n",
       "    <tr>\n",
       "      <th>1</th>\n",
       "      <td>2</td>\n",
       "      <td>1</td>\n",
       "      <td>A series of escapades demonstrating the adage ...</td>\n",
       "      <td>2</td>\n",
       "    </tr>\n",
       "    <tr>\n",
       "      <th>2</th>\n",
       "      <td>3</td>\n",
       "      <td>1</td>\n",
       "      <td>A series</td>\n",
       "      <td>2</td>\n",
       "    </tr>\n",
       "    <tr>\n",
       "      <th>3</th>\n",
       "      <td>4</td>\n",
       "      <td>1</td>\n",
       "      <td>A</td>\n",
       "      <td>2</td>\n",
       "    </tr>\n",
       "    <tr>\n",
       "      <th>4</th>\n",
       "      <td>5</td>\n",
       "      <td>1</td>\n",
       "      <td>series</td>\n",
       "      <td>2</td>\n",
       "    </tr>\n",
       "  </tbody>\n",
       "</table>\n",
       "</div>"
      ],
      "text/plain": [
       "   PhraseId  SentenceId                                             Phrase  \\\n",
       "0         1           1  A series of escapades demonstrating the adage ...   \n",
       "1         2           1  A series of escapades demonstrating the adage ...   \n",
       "2         3           1                                           A series   \n",
       "3         4           1                                                  A   \n",
       "4         5           1                                             series   \n",
       "\n",
       "   Sentiment  \n",
       "0          1  \n",
       "1          2  \n",
       "2          2  \n",
       "3          2  \n",
       "4          2  "
      ]
     },
     "execution_count": 5,
     "metadata": {},
     "output_type": "execute_result"
    }
   ],
   "source": [
    "# Set path for data source\n",
    "train_data_path = os.path.join(home, \"data\", \"train.tsv\", \"train.tsv\")\n",
    "\n",
    "#Read in data\n",
    "data = pd.read_csv(train_data_path, sep='\\t')\n",
    "data.head()"
   ]
  },
  {
   "cell_type": "code",
   "execution_count": 6,
   "metadata": {
    "scrolled": true
   },
   "outputs": [
    {
     "name": "stdout",
     "output_type": "stream",
     "text": [
      "<class 'pandas.core.frame.DataFrame'>\n",
      "RangeIndex: 156060 entries, 0 to 156059\n",
      "Data columns (total 4 columns):\n",
      " #   Column      Non-Null Count   Dtype \n",
      "---  ------      --------------   ----- \n",
      " 0   PhraseId    156060 non-null  int64 \n",
      " 1   SentenceId  156060 non-null  int64 \n",
      " 2   Phrase      156060 non-null  object\n",
      " 3   Sentiment   156060 non-null  int64 \n",
      "dtypes: int64(3), object(1)\n",
      "memory usage: 4.8+ MB\n",
      "None\n",
      "\n",
      "Frequency of each sentiment:\n",
      " 2    79582\n",
      "3    32927\n",
      "1    27273\n",
      "4     9206\n",
      "0     7072\n",
      "Name: Sentiment, dtype: int64\n"
     ]
    }
   ],
   "source": [
    "# Get basic stats on dataset\n",
    "print(data.info())\n",
    "print(\"\\nFrequency of each sentiment:\\n\", data.Sentiment.value_counts())"
   ]
  },
  {
   "cell_type": "code",
   "execution_count": 7,
   "metadata": {},
   "outputs": [
    {
     "data": {
      "text/plain": [
       "Text(0, 0.5, 'Number of Reviews')"
      ]
     },
     "execution_count": 7,
     "metadata": {},
     "output_type": "execute_result"
    },
    {
     "data": {
      "image/png": "[encoded data removed]",
      "text/plain": [
       "<Figure size 432x288 with 1 Axes>"
      ]
     },
     "metadata": {
      "needs_background": "light"
     },
     "output_type": "display_data"
    }
   ],
   "source": [
    "# Graph frequency of Sentiments within dataset\n",
    "Sentiment_count = data.groupby('Sentiment').count()\n",
    "plt.bar(Sentiment_count.index.values, Sentiment_count['Phrase'])\n",
    "plt.title(\"Frequency of Sentiments\")\n",
    "plt.xlabel(\"Review Sentiments\")\n",
    "plt.ylabel(\"Number of Reviews\")"
   ]
  },
  {
   "cell_type": "markdown",
   "metadata": {},
   "source": [
    "### 3. Training Models to Understand Sentiment\n",
    "\n",
    "This model uses the Bag-of-Words model to classify data based on the occurrence of words in the text\n",
    "\n",
    "1. create count vectors for each review counting the frequency of each word in each review\n",
    "2. divide the data into a training set and a test set\n",
    "3. fit the model onto the training data \n",
    "4. use the model to predict the test data"
   ]
  },
  {
   "cell_type": "markdown",
   "metadata": {},
   "source": [
    "#### Multinomial Naive Bayes classifier:\n",
    "* calculates the probabilities of each classification for a given piece of text and assigns it the one with the highest probability\n",
    "* The features of each piece of text are its word frequencies\n",
    "* Uses Bayes' Theorem of conditional probability to produce probabilities of classifications\n",
    "* Assume each word in sentence is independent of others - probability of sentence = probability of each word in sentence multiplied together (This is the <i>naive</i> part)\n",
    "* Use Laplace smoothing to remove division or multiplication by 0"
   ]
  },
  {
   "cell_type": "code",
   "execution_count": 8,
   "metadata": {},
   "outputs": [],
   "source": [
    "# Tokenizes only words and digit terms from the documents (i.e. ignores symbols)\n",
    "token = RegexpTokenizer(r'[a-zA-z0-9]+')\n",
    "cv = CountVectorizer(lowercase=True, stop_words='english', ngram_range = (1,1), tokenizer = token.tokenize)\n",
    "\n",
    "# Fits the model to the data contaned in the Phrase column of the dataset (i.e. the text content of the reviews)\n",
    "text_counts = cv.fit_transform(data['Phrase'])"
   ]
  },
  {
   "cell_type": "code",
   "execution_count": 9,
   "metadata": {},
   "outputs": [],
   "source": [
    "# Splits the data into a training set and a test set using the count\n",
    "# vecotrs found above and the Sentiment column of the dataset.\n",
    "X_train, X_test, y_train, y_test = train_test_split(\n",
    "   text_counts, data['Sentiment'], random_state = 1)"
   ]
  },
  {
   "cell_type": "code",
   "execution_count": 10,
   "metadata": {},
   "outputs": [
    {
     "name": "stdout",
     "output_type": "stream",
     "text": [
      "MultinomialNB Accuracy: 0.6048699218249391\n"
     ]
    }
   ],
   "source": [
    "# Fits the model to the trainng data\n",
    "classifier = MultinomialNB().fit(X_train, y_train)\n",
    "\n",
    "# Uses the model to predict the outcome of the test data\n",
    "predicted = classifier.predict(X_test)\n",
    "\n",
    "# Measures the accurracy of the prediction\n",
    "print(\"MultinomialNB Accuracy:\",accuracy_score(y_test, predicted))"
   ]
  },
  {
   "cell_type": "markdown",
   "metadata": {},
   "source": [
    "#### Implement function to build and assess such a model"
   ]
  },
  {
   "cell_type": "code",
   "execution_count": 13,
   "metadata": {},
   "outputs": [],
   "source": [
    "def NBModel(data_phrases, data_sentiment, ran_state):\n",
    "    token = RegexpTokenizer(r'[a-zA-z0-9]+')\n",
    "    cv = CountVectorizer(lowercase=True, stop_words='english', \n",
    "                         ngram_range = (1,1), tokenizer = token.tokenize)\n",
    "    text_counts = cv.fit_transform(data_phrases)\n",
    "    X_train, X_test, y_train, y_test = train_test_split(\n",
    "        text_counts, data_sentiment, random_state = ran_state)\n",
    "    classifier = MultinomialNB().fit(X_train, y_train)\n",
    "    predicted = classifier.predict(X_test)\n",
    "    print(\"MultinomialNB Accuracy:\", \n",
    "          accuracy_score(y_test, predicted))"
   ]
  },
  {
   "cell_type": "code",
   "execution_count": 14,
   "metadata": {},
   "outputs": [
    {
     "name": "stdout",
     "output_type": "stream",
     "text": [
      "MultinomialNB Accuracy: 0.6048699218249391\n"
     ]
    }
   ],
   "source": [
    "NBModel(data['Phrase'], data['Sentiment'], 1)"
   ]
  },
  {
   "cell_type": "markdown",
   "metadata": {},
   "source": [
    "#### TF-IDF:\n",
    "* normalises document term matrix and identifies signature words\n",
    "* stands for term frequency - inverse document frequency \n",
    "* term frequence = log(1 + no. occurrences of word in a document)\n",
    "* inverse document frequency = log((no. documents) / (no. documents in which word occurs))\n",
    "* tf-idf = product of tf and idf"
   ]
  },
  {
   "cell_type": "code",
   "execution_count": 16,
   "metadata": {},
   "outputs": [],
   "source": [
    "# Create word vectors for each piece of text using tf-idf \n",
    "tf = TfidfVectorizer()\n",
    "text_tf = tf.fit_transform(data['Phrase'])\n",
    "\n",
    "# Splits new data into test and training sets\n",
    "X_tf_train, X_tf_test, y_tf_train, y_tf_test = train_test_split(\n",
    "   text_tf, data['Sentiment'], test_size = 0.3, random_state = 123)"
   ]
  },
  {
   "cell_type": "code",
   "execution_count": 18,
   "metadata": {},
   "outputs": [
    {
     "name": "stdout",
     "output_type": "stream",
     "text": [
      "MultinomialNB Accuracy using TF-IDF: 0.5865265496176684\n"
     ]
    }
   ],
   "source": [
    "# Train the model and assess the accuracy of its predictions\n",
    "clf_tf = MultinomialNB().fit(X_tf_train, y_tf_train)\n",
    "predicted_tf = clf_tf.predict(X_tf_test)\n",
    "print(\"MultinomialNB Accuracy using TF-IDF:\",accuracy_score(\n",
    "    y_tf_test, predicted_tf))"
   ]
  },
  {
   "cell_type": "code",
   "execution_count": 19,
   "metadata": {},
   "outputs": [],
   "source": [
    "#Defining function to reuse above process\n",
    "def TFIDFModel(data_phrases, data_sentiment, ran_state):\n",
    "    tf = TfidfVectorizer()\n",
    "    text_tf = tf.fit_transform(data_phrases)\n",
    "    X_tf_train, X_tf_test, y_tf_train, y_tf_test = train_test_split(\n",
    "        text_tf, data_sentiment, test_size = 0.3, random_state = ran_state)\n",
    "    clf_tf = MultinomialNB().fit(X_tf_train, y_tf_train)\n",
    "    predicted_tf = clf_tf.predict(X_tf_test)\n",
    "    print(\"MultinomialNB Accuracy using TF-IDF:\",accuracy_score(\n",
    "        y_tf_test, predicted_tf))"
   ]
  },
  {
   "cell_type": "code",
   "execution_count": 20,
   "metadata": {},
   "outputs": [
    {
     "name": "stdout",
     "output_type": "stream",
     "text": [
      "MultinomialNB Accuracy using TF-IDF: 0.5865265496176684\n"
     ]
    }
   ],
   "source": [
    "TFIDFModel(data['Phrase'], data['Sentiment'], 123)"
   ]
  },
  {
   "cell_type": "markdown",
   "metadata": {},
   "source": [
    "### 4. Improve Accuracy\n",
    "The following methods will be implemented to hopefully improve the accuracy of the above models:\n",
    "* Removal of stopwords\n",
    "* Lemmatization"
   ]
  },
  {
   "cell_type": "code",
   "execution_count": 24,
   "metadata": {},
   "outputs": [],
   "source": [
    "clean_phrases = []\n",
    "stop_words = set(stopwords.words(\"english\"))\n",
    "lemmatizer = WordNetLemmatizer()\n",
    "\n",
    "# remove stopwords from each phrase, and lemmatize each word\n",
    "for phrase in data['Phrase']:\n",
    "    clean_phrase = []\n",
    "    for word in word_tokenize(phrase):\n",
    "        if not word in stop_words:\n",
    "            clean_phrase.append(lemmatizer.lemmatize(word))\n",
    "    # revert list of strings to a single string\n",
    "    clean_phrases.append(\" \".join(clean_phrase))"
   ]
  },
  {
   "cell_type": "code",
   "execution_count": 25,
   "metadata": {},
   "outputs": [
    {
     "name": "stdout",
     "output_type": "stream",
     "text": [
      "MultinomialNB Accuracy: 0.6068178905549148\n"
     ]
    }
   ],
   "source": [
    "NBModel(clean_phrases, data['Sentiment'], 1)"
   ]
  },
  {
   "cell_type": "code",
   "execution_count": 26,
   "metadata": {},
   "outputs": [
    {
     "name": "stdout",
     "output_type": "stream",
     "text": [
      "MultinomialNB Accuracy using TF-IDF: 0.5870818915801614\n"
     ]
    }
   ],
   "source": [
    "TFIDFModel(clean_phrases, data['Sentiment'], 123)"
   ]
  },
  {
   "cell_type": "markdown",
   "metadata": {},
   "source": [
    "* While this process has made some improvement to the accuracy, it is extremely minor"
   ]
  },
  {
   "cell_type": "markdown",
   "metadata": {},
   "source": [
    "### 5. Train a new model\n",
    "\n",
    "#### Passive Aggressive Classifier\n",
    "* Updates model for misclassifications"
   ]
  },
  {
   "cell_type": "code",
   "execution_count": 87,
   "metadata": {},
   "outputs": [],
   "source": [
    "def PACModel(phrases, sentiments, ran_state, ngram_num, max_df_num):\n",
    "    \n",
    "    # Initialize vectorizer\n",
    "    tf = TfidfVectorizer(stop_words = 'english', max_df = max_df_num, ngram_range = (1, ngram_num))\n",
    "    tf_phrases = tf.fit_transform(phrases)\n",
    "    \n",
    "    # Split the data\n",
    "    train_x, test_x, train_y, test_y = train_test_split(\n",
    "        tf_phrases, sentiments, test_size = 0.3, random_state = ran_state)\n",
    "    \n",
    "    # Initialize classifier\n",
    "    pac_classifier = PassiveAggressiveClassifier().fit(\n",
    "        train_x, train_y)\n",
    "    \n",
    "    # Predict test data\n",
    "    predicted = pac_classifier.predict(test_x)\n",
    "    print(\"PassiveAggressive Accuracy using TF-IDF:\",accuracy_score(\n",
    "        test_y, predicted))"
   ]
  },
  {
   "cell_type": "code",
   "execution_count": 52,
   "metadata": {},
   "outputs": [],
   "source": [
    "train_x, test_x, train_y, test_y = train_test_split(\n",
    "    clean_phrases, data['Sentiment'], \n",
    "    test_size = 0.3, random_state = 1)"
   ]
  },
  {
   "cell_type": "code",
   "execution_count": 94,
   "metadata": {
    "scrolled": true
   },
   "outputs": [
    {
     "name": "stdout",
     "output_type": "stream",
     "text": [
      "\n",
      "Messy data and no n-grams: \n",
      "PassiveAggressive Accuracy using TF-IDF: 0.6106625656798668\n",
      "\n",
      "Clean data and no n-grams: \n",
      "PassiveAggressive Accuracy using TF-IDF: 0.6043829296424452\n",
      "\n",
      "Messy data and n-grams: \n",
      "PassiveAggressive Accuracy using TF-IDF: 0.6224101841172198\n",
      "\n",
      "Clean data and n-grams: \n",
      "PassiveAggressive Accuracy using TF-IDF: 0.6208936733734888\n"
     ]
    }
   ],
   "source": [
    "print(\"\\nMessy data and no n-grams: \")\n",
    "PACModel(data['Phrase'], data['Sentiment'], 1, 1, 0.5)\n",
    "print(\"\\nClean data and no n-grams: \")\n",
    "PACModel(clean_phrases, data['Sentiment'], 1, 1, 0.5)\n",
    "print(\"\\nMessy data and n-grams: \")\n",
    "PACModel(data['Phrase'], data['Sentiment'], 1, 2, 0.5)\n",
    "print(\"\\nClean data and n-grams: \")\n",
    "PACModel(clean_phrases, data['Sentiment'], 1, 2, 0.5)"
   ]
  }
 ],
 "metadata": {
  "kernelspec": {
   "display_name": "Python 3",
   "language": "python",
   "name": "python3"
  },
  "language_info": {
   "codemirror_mode": {
    "name": "ipython",
    "version": 3
   },
   "file_extension": ".py",
   "mimetype": "text/x-python",
   "name": "python",
   "nbconvert_exporter": "python",
   "pygments_lexer": "ipython3",
   "version": "3.8.2"
  }
 },
 "nbformat": 4,
 "nbformat_minor": 4
}
